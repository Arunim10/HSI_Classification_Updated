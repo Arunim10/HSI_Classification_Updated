{
 "cells": [
  {
   "cell_type": "code",
   "execution_count": 21,
   "metadata": {},
   "outputs": [],
   "source": [
    "import numpy as np\n",
    "from scipy.io import loadmat,savemat\n",
    "hsi_path = \"D:\\\\HSI Project\\\\Updated_Work\\\\HSI_Classification\\\\Minerals_Dataset\\\\Minerals_mat_files\\\\0020_A.mat\""
   ]
  },
  {
   "cell_type": "code",
   "execution_count": 3,
   "metadata": {},
   "outputs": [
    {
     "data": {
      "text/plain": [
       "(32, torch.int64)"
      ]
     },
     "execution_count": 3,
     "metadata": {},
     "output_type": "execute_result"
    }
   ],
   "source": [
    "import torch\n",
    "a = torch.tensor([[1,2],[3,4]])\n",
    "a.element_size()*a.numel()),a.dtype"
   ]
  },
  {
   "cell_type": "code",
   "execution_count": 78,
   "metadata": {},
   "outputs": [
    {
     "name": "stdout",
     "output_type": "stream",
     "text": [
      "CPU times: total: 17.5 s\n",
      "Wall time: 40 s\n"
     ]
    }
   ],
   "source": [
    "# %%time\n",
    "# np.save(file=\"E:\\\\demo_patches_data\\\\pc2\\\\dummy_array.npy\",arr=np.array(loadmat(hsi_path)['HDR']))\n",
    "# for i in range(256):\n",
    "#     np.array(loadmat(hsi_path)['HDR'])"
   ]
  },
  {
   "cell_type": "code",
   "execution_count": 54,
   "metadata": {},
   "outputs": [],
   "source": [
    "import h5py\n",
    "def patch_from_hsi(id,hsi_path,mmaps,window_size):\n",
    "    hsi = mmaps[hsi_path]\n",
    "    # hsi = np.transpose(loadmat(hsi_path)['HDR'],axes=(1,2,0))\n",
    "    # hsi = np.transpose(h5py.File(hsi_path,'r')['HDR'][:],axes=(1,2,0))\n",
    "    # hsi = self.hsi_dict[hsi_path]\n",
    "    row,col,channels = hsi.shape\n",
    "    x_hsi,y_hsi = id//col,id%col\n",
    "    margin = int((window_size-1)/2)\n",
    "    \n",
    "    patch = np.zeros((window_size,window_size,channels))\n",
    "    \n",
    "    lower_bound = [max(0,x_hsi-margin),max(0,y_hsi-margin)]\n",
    "    upper_bound = [min(row-1,x_hsi+margin),min(col-1,y_hsi+margin)]\n",
    "    \n",
    "    diff_lower = [abs(x_hsi-lower_bound[0]),abs(y_hsi-lower_bound[1])]\n",
    "    diff_upper = [abs(upper_bound[0]-x_hsi),abs(upper_bound[1]-y_hsi)]\n",
    "    \n",
    "    patch_lower_bound = [margin-diff_lower[0],margin-diff_lower[1]]\n",
    "    patch_upper_bound = [margin+diff_upper[0],margin+diff_upper[1]]\n",
    "    \n",
    "    patch[patch_lower_bound[0]:patch_upper_bound[0]+1,patch_lower_bound[1]:patch_upper_bound[1]+1,:] = hsi[lower_bound[0]:upper_bound[0]+1,lower_bound[1]:upper_bound[1]+1,:]\n",
    "    del hsi\n",
    "    return patch"
   ]
  },
  {
   "cell_type": "code",
   "execution_count": 46,
   "metadata": {},
   "outputs": [
    {
     "name": "stdout",
     "output_type": "stream",
     "text": [
      "{'D:\\\\HSI Project\\\\Updated_Work\\\\HSI_Classification\\\\Minerals_Dataset\\\\Minerals_mat_files\\\\0000_A.mat': (320, 410, 256), 'D:\\\\HSI Project\\\\Updated_Work\\\\HSI_Classification\\\\Minerals_Dataset\\\\Minerals_mat_files\\\\0001_A.mat': (320, 410, 256), 'D:\\\\HSI Project\\\\Updated_Work\\\\HSI_Classification\\\\Minerals_Dataset\\\\Minerals_mat_files\\\\0002_A.mat': (320, 410, 256), 'D:\\\\HSI Project\\\\Updated_Work\\\\HSI_Classification\\\\Minerals_Dataset\\\\Minerals_mat_files\\\\0003_A.mat': (320, 410, 256), 'D:\\\\HSI Project\\\\Updated_Work\\\\HSI_Classification\\\\Minerals_Dataset\\\\Minerals_mat_files\\\\0003_B.mat': (320, 410, 256), 'D:\\\\HSI Project\\\\Updated_Work\\\\HSI_Classification\\\\Minerals_Dataset\\\\Minerals_mat_files\\\\0004_A.mat': (320, 410, 256), 'D:\\\\HSI Project\\\\Updated_Work\\\\HSI_Classification\\\\Minerals_Dataset\\\\Minerals_mat_files\\\\0005_A.mat': (320, 435, 256), 'D:\\\\HSI Project\\\\Updated_Work\\\\HSI_Classification\\\\Minerals_Dataset\\\\Minerals_mat_files\\\\0005_B.mat': (320, 435, 256), 'D:\\\\HSI Project\\\\Updated_Work\\\\HSI_Classification\\\\Minerals_Dataset\\\\Minerals_mat_files\\\\0006_A.mat': (320, 410, 256), 'D:\\\\HSI Project\\\\Updated_Work\\\\HSI_Classification\\\\Minerals_Dataset\\\\Minerals_mat_files\\\\0007_A.mat': (320, 410, 256), 'D:\\\\HSI Project\\\\Updated_Work\\\\HSI_Classification\\\\Minerals_Dataset\\\\Minerals_mat_files\\\\0008_A.mat': (320, 410, 256), 'D:\\\\HSI Project\\\\Updated_Work\\\\HSI_Classification\\\\Minerals_Dataset\\\\Minerals_mat_files\\\\0009_A.mat': (320, 410, 256), 'D:\\\\HSI Project\\\\Updated_Work\\\\HSI_Classification\\\\Minerals_Dataset\\\\Minerals_mat_files\\\\0009_B.mat': (320, 410, 256), 'D:\\\\HSI Project\\\\Updated_Work\\\\HSI_Classification\\\\Minerals_Dataset\\\\Minerals_mat_files\\\\0010_A.mat': (320, 410, 256), 'D:\\\\HSI Project\\\\Updated_Work\\\\HSI_Classification\\\\Minerals_Dataset\\\\Minerals_mat_files\\\\0011_A.mat': (320, 410, 256), 'D:\\\\HSI Project\\\\Updated_Work\\\\HSI_Classification\\\\Minerals_Dataset\\\\Minerals_mat_files\\\\0012_A.mat': (320, 410, 256), 'D:\\\\HSI Project\\\\Updated_Work\\\\HSI_Classification\\\\Minerals_Dataset\\\\Minerals_mat_files\\\\0012_B.mat': (320, 410, 256), 'D:\\\\HSI Project\\\\Updated_Work\\\\HSI_Classification\\\\Minerals_Dataset\\\\Minerals_mat_files\\\\0013_A.mat': (320, 410, 256), 'D:\\\\HSI Project\\\\Updated_Work\\\\HSI_Classification\\\\Minerals_Dataset\\\\Minerals_mat_files\\\\0014_A.mat': (320, 410, 256), 'D:\\\\HSI Project\\\\Updated_Work\\\\HSI_Classification\\\\Minerals_Dataset\\\\Minerals_mat_files\\\\0016_A.mat': (320, 410, 256), 'D:\\\\HSI Project\\\\Updated_Work\\\\HSI_Classification\\\\Minerals_Dataset\\\\Minerals_mat_files\\\\0017_A.mat': (320, 410, 256), 'D:\\\\HSI Project\\\\Updated_Work\\\\HSI_Classification\\\\Minerals_Dataset\\\\Minerals_mat_files\\\\0018_A.mat': (320, 410, 256), 'D:\\\\HSI Project\\\\Updated_Work\\\\HSI_Classification\\\\Minerals_Dataset\\\\Minerals_mat_files\\\\0019_A.mat': (320, 410, 256), 'D:\\\\HSI Project\\\\Updated_Work\\\\HSI_Classification\\\\Minerals_Dataset\\\\Minerals_mat_files\\\\0020_A.mat': (320, 410, 256), 'D:\\\\HSI Project\\\\Updated_Work\\\\HSI_Classification\\\\Minerals_Dataset\\\\Minerals_mat_files\\\\0021_A.mat': (320, 410, 256), 'D:\\\\HSI Project\\\\Updated_Work\\\\HSI_Classification\\\\Minerals_Dataset\\\\Minerals_mat_files\\\\0022_A.mat': (320, 410, 256), 'D:\\\\HSI Project\\\\Updated_Work\\\\HSI_Classification\\\\Minerals_Dataset\\\\Minerals_mat_files\\\\0023_A.mat': (320, 410, 256), 'D:\\\\HSI Project\\\\Updated_Work\\\\HSI_Classification\\\\Minerals_Dataset\\\\Minerals_mat_files\\\\0024_A.mat': (320, 410, 256), 'D:\\\\HSI Project\\\\Updated_Work\\\\HSI_Classification\\\\Minerals_Dataset\\\\Minerals_mat_files\\\\0025_A.mat': (320, 410, 256), 'D:\\\\HSI Project\\\\Updated_Work\\\\HSI_Classification\\\\Minerals_Dataset\\\\Minerals_mat_files\\\\0026_A.mat': (320, 410, 256), 'D:\\\\HSI Project\\\\Updated_Work\\\\HSI_Classification\\\\Minerals_Dataset\\\\Minerals_mat_files\\\\0027_A.mat': (320, 410, 256), 'D:\\\\HSI Project\\\\Updated_Work\\\\HSI_Classification\\\\Minerals_Dataset\\\\Minerals_mat_files\\\\0028_A.mat': (320, 410, 256), 'D:\\\\HSI Project\\\\Updated_Work\\\\HSI_Classification\\\\Minerals_Dataset\\\\Minerals_mat_files\\\\0029_A.mat': (320, 410, 256), 'D:\\\\HSI Project\\\\Updated_Work\\\\HSI_Classification\\\\Minerals_Dataset\\\\Minerals_mat_files\\\\0030_A.mat': (320, 410, 256), 'D:\\\\HSI Project\\\\Updated_Work\\\\HSI_Classification\\\\Minerals_Dataset\\\\Minerals_mat_files\\\\0031_A.mat': (320, 410, 256), 'D:\\\\HSI Project\\\\Updated_Work\\\\HSI_Classification\\\\Minerals_Dataset\\\\Minerals_mat_files\\\\0032_A.mat': (320, 410, 256), 'D:\\\\HSI Project\\\\Updated_Work\\\\HSI_Classification\\\\Minerals_Dataset\\\\Minerals_mat_files\\\\0033_A.mat': (320, 410, 256), 'D:\\\\HSI Project\\\\Updated_Work\\\\HSI_Classification\\\\Minerals_Dataset\\\\Minerals_mat_files\\\\0034_A.mat': (320, 410, 256), 'D:\\\\HSI Project\\\\Updated_Work\\\\HSI_Classification\\\\Minerals_Dataset\\\\Minerals_mat_files\\\\0035_A.mat': (320, 410, 256), 'D:\\\\HSI Project\\\\Updated_Work\\\\HSI_Classification\\\\Minerals_Dataset\\\\Minerals_mat_files\\\\0036_A.mat': (320, 410, 256), 'D:\\\\HSI Project\\\\Updated_Work\\\\HSI_Classification\\\\Minerals_Dataset\\\\Minerals_mat_files\\\\0037_A.mat': (320, 410, 256), 'D:\\\\HSI Project\\\\Updated_Work\\\\HSI_Classification\\\\Minerals_Dataset\\\\Minerals_mat_files\\\\0038_A.mat': (320, 410, 256), 'D:\\\\HSI Project\\\\Updated_Work\\\\HSI_Classification\\\\Minerals_Dataset\\\\Minerals_mat_files\\\\0039_A.mat': (320, 410, 256), 'D:\\\\HSI Project\\\\Updated_Work\\\\HSI_Classification\\\\Minerals_Dataset\\\\Minerals_mat_files\\\\0039_B.mat': (320, 410, 256), 'D:\\\\HSI Project\\\\Updated_Work\\\\HSI_Classification\\\\Minerals_Dataset\\\\Minerals_mat_files\\\\0040_A.mat': (320, 410, 256), 'D:\\\\HSI Project\\\\Updated_Work\\\\HSI_Classification\\\\Minerals_Dataset\\\\Minerals_mat_files\\\\0041_A.mat': (320, 410, 256), 'D:\\\\HSI Project\\\\Updated_Work\\\\HSI_Classification\\\\Minerals_Dataset\\\\Minerals_mat_files\\\\0042_A.mat': (320, 410, 256), 'D:\\\\HSI Project\\\\Updated_Work\\\\HSI_Classification\\\\Minerals_Dataset\\\\Minerals_mat_files\\\\0043_A.mat': (320, 410, 256), 'D:\\\\HSI Project\\\\Updated_Work\\\\HSI_Classification\\\\Minerals_Dataset\\\\Minerals_mat_files\\\\0044_A.mat': (320, 410, 256), 'D:\\\\HSI Project\\\\Updated_Work\\\\HSI_Classification\\\\Minerals_Dataset\\\\Minerals_mat_files\\\\0045_A.mat': (320, 410, 256), 'D:\\\\HSI Project\\\\Updated_Work\\\\HSI_Classification\\\\Minerals_Dataset\\\\Minerals_mat_files\\\\0046_A.mat': (320, 410, 256), 'D:\\\\HSI Project\\\\Updated_Work\\\\HSI_Classification\\\\Minerals_Dataset\\\\Minerals_mat_files\\\\0047_A.mat': (320, 410, 256), 'D:\\\\HSI Project\\\\Updated_Work\\\\HSI_Classification\\\\Minerals_Dataset\\\\Minerals_mat_files\\\\0048_A.mat': (320, 410, 256), 'D:\\\\HSI Project\\\\Updated_Work\\\\HSI_Classification\\\\Minerals_Dataset\\\\Minerals_mat_files\\\\0049_A.mat': (320, 410, 256), 'D:\\\\HSI Project\\\\Updated_Work\\\\HSI_Classification\\\\Minerals_Dataset\\\\Minerals_mat_files\\\\0049_B.mat': (320, 410, 256), 'D:\\\\HSI Project\\\\Updated_Work\\\\HSI_Classification\\\\Minerals_Dataset\\\\Minerals_mat_files\\\\0050_A.mat': (320, 410, 256), 'D:\\\\HSI Project\\\\Updated_Work\\\\HSI_Classification\\\\Minerals_Dataset\\\\Minerals_mat_files\\\\0051_A.mat': (320, 410, 256), 'D:\\\\HSI Project\\\\Updated_Work\\\\HSI_Classification\\\\Minerals_Dataset\\\\Minerals_mat_files\\\\0052_A.mat': (320, 410, 256), 'D:\\\\HSI Project\\\\Updated_Work\\\\HSI_Classification\\\\Minerals_Dataset\\\\Minerals_mat_files\\\\0053_A.mat': (320, 410, 256), 'D:\\\\HSI Project\\\\Updated_Work\\\\HSI_Classification\\\\Minerals_Dataset\\\\Minerals_mat_files\\\\0054_A.mat': (320, 410, 256), 'D:\\\\HSI Project\\\\Updated_Work\\\\HSI_Classification\\\\Minerals_Dataset\\\\Minerals_mat_files\\\\0055_A.mat': (320, 410, 256), 'D:\\\\HSI Project\\\\Updated_Work\\\\HSI_Classification\\\\Minerals_Dataset\\\\Minerals_mat_files\\\\0056_A.mat': (320, 410, 256), 'D:\\\\HSI Project\\\\Updated_Work\\\\HSI_Classification\\\\Minerals_Dataset\\\\Minerals_mat_files\\\\0057_A.mat': (320, 410, 256), 'D:\\\\HSI Project\\\\Updated_Work\\\\HSI_Classification\\\\Minerals_Dataset\\\\Minerals_mat_files\\\\0058_A.mat': (320, 410, 256), 'D:\\\\HSI Project\\\\Updated_Work\\\\HSI_Classification\\\\Minerals_Dataset\\\\Minerals_mat_files\\\\0059_A.mat': (320, 410, 256), 'D:\\\\HSI Project\\\\Updated_Work\\\\HSI_Classification\\\\Minerals_Dataset\\\\Minerals_mat_files\\\\0060_A.mat': (320, 410, 256), 'D:\\\\HSI Project\\\\Updated_Work\\\\HSI_Classification\\\\Minerals_Dataset\\\\Minerals_mat_files\\\\0061_A.mat': (320, 410, 256), 'D:\\\\HSI Project\\\\Updated_Work\\\\HSI_Classification\\\\Minerals_Dataset\\\\Minerals_mat_files\\\\0062_A.mat': (320, 410, 256), 'D:\\\\HSI Project\\\\Updated_Work\\\\HSI_Classification\\\\Minerals_Dataset\\\\Minerals_mat_files\\\\0063_A.mat': (320, 410, 256), 'D:\\\\HSI Project\\\\Updated_Work\\\\HSI_Classification\\\\Minerals_Dataset\\\\Minerals_mat_files\\\\0064_A.mat': (320, 410, 256), 'D:\\\\HSI Project\\\\Updated_Work\\\\HSI_Classification\\\\Minerals_Dataset\\\\Minerals_mat_files\\\\0065_A.mat': (320, 410, 256), 'D:\\\\HSI Project\\\\Updated_Work\\\\HSI_Classification\\\\Minerals_Dataset\\\\Minerals_mat_files\\\\0066_A.mat': (320, 410, 256), 'D:\\\\HSI Project\\\\Updated_Work\\\\HSI_Classification\\\\Minerals_Dataset\\\\Minerals_mat_files\\\\0067_A.mat': (320, 410, 256), 'D:\\\\HSI Project\\\\Updated_Work\\\\HSI_Classification\\\\Minerals_Dataset\\\\Minerals_mat_files\\\\0068_A.mat': (320, 410, 256), 'D:\\\\HSI Project\\\\Updated_Work\\\\HSI_Classification\\\\Minerals_Dataset\\\\Minerals_mat_files\\\\0069_A.mat': (320, 410, 256), 'D:\\\\HSI Project\\\\Updated_Work\\\\HSI_Classification\\\\Minerals_Dataset\\\\Minerals_mat_files\\\\0070_A.mat': (320, 410, 256), 'D:\\\\HSI Project\\\\Updated_Work\\\\HSI_Classification\\\\Minerals_Dataset\\\\Minerals_mat_files\\\\0071_A.mat': (320, 410, 256), 'D:\\\\HSI Project\\\\Updated_Work\\\\HSI_Classification\\\\Minerals_Dataset\\\\Minerals_mat_files\\\\0072_A.mat': (320, 410, 256), 'D:\\\\HSI Project\\\\Updated_Work\\\\HSI_Classification\\\\Minerals_Dataset\\\\Minerals_mat_files\\\\0073_A.mat': (320, 410, 256), 'D:\\\\HSI Project\\\\Updated_Work\\\\HSI_Classification\\\\Minerals_Dataset\\\\Minerals_mat_files\\\\0074_A.mat': (320, 410, 256), 'D:\\\\HSI Project\\\\Updated_Work\\\\HSI_Classification\\\\Minerals_Dataset\\\\Minerals_mat_files\\\\0075_A.mat': (320, 410, 256), 'D:\\\\HSI Project\\\\Updated_Work\\\\HSI_Classification\\\\Minerals_Dataset\\\\Minerals_mat_files\\\\0075_B.mat': (320, 460, 256), 'D:\\\\HSI Project\\\\Updated_Work\\\\HSI_Classification\\\\Minerals_Dataset\\\\Minerals_mat_files\\\\0076_A.mat': (320, 410, 256), 'D:\\\\HSI Project\\\\Updated_Work\\\\HSI_Classification\\\\Minerals_Dataset\\\\Minerals_mat_files\\\\0077_A.mat': (320, 410, 256), 'D:\\\\HSI Project\\\\Updated_Work\\\\HSI_Classification\\\\Minerals_Dataset\\\\Minerals_mat_files\\\\0078_A.mat': (320, 410, 256), 'D:\\\\HSI Project\\\\Updated_Work\\\\HSI_Classification\\\\Minerals_Dataset\\\\Minerals_mat_files\\\\0079_A.mat': (320, 410, 256), 'D:\\\\HSI Project\\\\Updated_Work\\\\HSI_Classification\\\\Minerals_Dataset\\\\Minerals_mat_files\\\\0080_A.mat': (320, 460, 256), 'D:\\\\HSI Project\\\\Updated_Work\\\\HSI_Classification\\\\Minerals_Dataset\\\\Minerals_mat_files\\\\0081_A.mat': (320, 460, 256), 'D:\\\\HSI Project\\\\Updated_Work\\\\HSI_Classification\\\\Minerals_Dataset\\\\Minerals_mat_files\\\\0082_A.mat': (320, 460, 256), 'D:\\\\HSI Project\\\\Updated_Work\\\\HSI_Classification\\\\Minerals_Dataset\\\\Minerals_mat_files\\\\0083_A.mat': (320, 460, 256), 'D:\\\\HSI Project\\\\Updated_Work\\\\HSI_Classification\\\\Minerals_Dataset\\\\Minerals_mat_files\\\\0084_A.mat': (320, 410, 256), 'D:\\\\HSI Project\\\\Updated_Work\\\\HSI_Classification\\\\Minerals_Dataset\\\\Minerals_mat_files\\\\0085_A.mat': (320, 410, 256), 'D:\\\\HSI Project\\\\Updated_Work\\\\HSI_Classification\\\\Minerals_Dataset\\\\Minerals_mat_files\\\\0085_B.mat': (320, 410, 256), 'D:\\\\HSI Project\\\\Updated_Work\\\\HSI_Classification\\\\Minerals_Dataset\\\\Minerals_mat_files\\\\0086_A.mat': (320, 410, 256), 'D:\\\\HSI Project\\\\Updated_Work\\\\HSI_Classification\\\\Minerals_Dataset\\\\Minerals_mat_files\\\\0086_B.mat': (320, 410, 256), 'D:\\\\HSI Project\\\\Updated_Work\\\\HSI_Classification\\\\Minerals_Dataset\\\\Minerals_mat_files\\\\0087_A.mat': (320, 410, 256), 'D:\\\\HSI Project\\\\Updated_Work\\\\HSI_Classification\\\\Minerals_Dataset\\\\Minerals_mat_files\\\\0087_B.mat': (320, 410, 256), 'D:\\\\HSI Project\\\\Updated_Work\\\\HSI_Classification\\\\Minerals_Dataset\\\\Minerals_mat_files\\\\0088_A.mat': (320, 410, 256), 'D:\\\\HSI Project\\\\Updated_Work\\\\HSI_Classification\\\\Minerals_Dataset\\\\Minerals_mat_files\\\\0088_B.mat': (320, 410, 256), 'D:\\\\HSI Project\\\\Updated_Work\\\\HSI_Classification\\\\Minerals_Dataset\\\\Minerals_mat_files\\\\0089_A.mat': (320, 410, 256), 'D:\\\\HSI Project\\\\Updated_Work\\\\HSI_Classification\\\\Minerals_Dataset\\\\Minerals_mat_files\\\\0089_B.mat': (320, 410, 256), 'D:\\\\HSI Project\\\\Updated_Work\\\\HSI_Classification\\\\Minerals_Dataset\\\\Minerals_mat_files\\\\0090_A.mat': (320, 410, 256), 'D:\\\\HSI Project\\\\Updated_Work\\\\HSI_Classification\\\\Minerals_Dataset\\\\Minerals_mat_files\\\\0090_B.mat': (320, 410, 256), 'D:\\\\HSI Project\\\\Updated_Work\\\\HSI_Classification\\\\Minerals_Dataset\\\\Minerals_mat_files\\\\0091_A.mat': (320, 410, 256), 'D:\\\\HSI Project\\\\Updated_Work\\\\HSI_Classification\\\\Minerals_Dataset\\\\Minerals_mat_files\\\\0091_B.mat': (320, 410, 256), 'D:\\\\HSI Project\\\\Updated_Work\\\\HSI_Classification\\\\Minerals_Dataset\\\\Minerals_mat_files\\\\0092_A.mat': (320, 410, 256), 'D:\\\\HSI Project\\\\Updated_Work\\\\HSI_Classification\\\\Minerals_Dataset\\\\Minerals_mat_files\\\\0092_B.mat': (320, 410, 256), 'D:\\\\HSI Project\\\\Updated_Work\\\\HSI_Classification\\\\Minerals_Dataset\\\\Minerals_mat_files\\\\0093_A.mat': (320, 410, 256), 'D:\\\\HSI Project\\\\Updated_Work\\\\HSI_Classification\\\\Minerals_Dataset\\\\Minerals_mat_files\\\\0094_A.mat': (320, 410, 256), 'D:\\\\HSI Project\\\\Updated_Work\\\\HSI_Classification\\\\Minerals_Dataset\\\\Minerals_mat_files\\\\0095_A.mat': (320, 410, 256), 'D:\\\\HSI Project\\\\Updated_Work\\\\HSI_Classification\\\\Minerals_Dataset\\\\Minerals_mat_files\\\\0096_A.mat': (320, 410, 256), 'D:\\\\HSI Project\\\\Updated_Work\\\\HSI_Classification\\\\Minerals_Dataset\\\\Minerals_mat_files\\\\0097_A.mat': (320, 410, 256), 'D:\\\\HSI Project\\\\Updated_Work\\\\HSI_Classification\\\\Minerals_Dataset\\\\Minerals_mat_files\\\\0097_B.mat': (320, 410, 256), 'D:\\\\HSI Project\\\\Updated_Work\\\\HSI_Classification\\\\Minerals_Dataset\\\\Minerals_mat_files\\\\0098_A.mat': (320, 410, 256), 'D:\\\\HSI Project\\\\Updated_Work\\\\HSI_Classification\\\\Minerals_Dataset\\\\Minerals_mat_files\\\\0098_B.mat': (320, 410, 256), 'D:\\\\HSI Project\\\\Updated_Work\\\\HSI_Classification\\\\Minerals_Dataset\\\\Minerals_mat_files\\\\0099_A.mat': (320, 410, 256), 'D:\\\\HSI Project\\\\Updated_Work\\\\HSI_Classification\\\\Minerals_Dataset\\\\Minerals_mat_files\\\\0099_B.mat': (320, 410, 256), 'D:\\\\HSI Project\\\\Updated_Work\\\\HSI_Classification\\\\Minerals_Dataset\\\\Minerals_mat_files\\\\0100_A.mat': (320, 410, 256), 'D:\\\\HSI Project\\\\Updated_Work\\\\HSI_Classification\\\\Minerals_Dataset\\\\Minerals_mat_files\\\\0101_A.mat': (320, 410, 256), 'D:\\\\HSI Project\\\\Updated_Work\\\\HSI_Classification\\\\Minerals_Dataset\\\\Minerals_mat_files\\\\0102_A.mat': (320, 410, 256), 'D:\\\\HSI Project\\\\Updated_Work\\\\HSI_Classification\\\\Minerals_Dataset\\\\Minerals_mat_files\\\\0103_A.mat': (320, 410, 256), 'D:\\\\HSI Project\\\\Updated_Work\\\\HSI_Classification\\\\Minerals_Dataset\\\\Minerals_mat_files\\\\0104_A.mat': (320, 410, 256), 'D:\\\\HSI Project\\\\Updated_Work\\\\HSI_Classification\\\\Minerals_Dataset\\\\Minerals_mat_files\\\\0104_B.mat': (320, 410, 256), 'D:\\\\HSI Project\\\\Updated_Work\\\\HSI_Classification\\\\Minerals_Dataset\\\\Minerals_mat_files\\\\0105_A.mat': (320, 410, 256), 'D:\\\\HSI Project\\\\Updated_Work\\\\HSI_Classification\\\\Minerals_Dataset\\\\Minerals_mat_files\\\\0106_A.mat': (320, 410, 256), 'D:\\\\HSI Project\\\\Updated_Work\\\\HSI_Classification\\\\Minerals_Dataset\\\\Minerals_mat_files\\\\0107_A.mat': (320, 410, 256), 'D:\\\\HSI Project\\\\Updated_Work\\\\HSI_Classification\\\\Minerals_Dataset\\\\Minerals_mat_files\\\\0108_A.mat': (320, 410, 256), 'D:\\\\HSI Project\\\\Updated_Work\\\\HSI_Classification\\\\Minerals_Dataset\\\\Minerals_mat_files\\\\0108_B.mat': (320, 410, 256), 'D:\\\\HSI Project\\\\Updated_Work\\\\HSI_Classification\\\\Minerals_Dataset\\\\Minerals_mat_files\\\\0109_A.mat': (320, 410, 256), 'D:\\\\HSI Project\\\\Updated_Work\\\\HSI_Classification\\\\Minerals_Dataset\\\\Minerals_mat_files\\\\0109_B.mat': (320, 410, 256), 'D:\\\\HSI Project\\\\Updated_Work\\\\HSI_Classification\\\\Minerals_Dataset\\\\Minerals_mat_files\\\\0110_A.mat': (320, 410, 256), 'D:\\\\HSI Project\\\\Updated_Work\\\\HSI_Classification\\\\Minerals_Dataset\\\\Minerals_mat_files\\\\0110_B.mat': (320, 410, 256), 'D:\\\\HSI Project\\\\Updated_Work\\\\HSI_Classification\\\\Minerals_Dataset\\\\Minerals_mat_files\\\\0111_A.mat': (320, 410, 256), 'D:\\\\HSI Project\\\\Updated_Work\\\\HSI_Classification\\\\Minerals_Dataset\\\\Minerals_mat_files\\\\0112_A.mat': (320, 410, 256), 'D:\\\\HSI Project\\\\Updated_Work\\\\HSI_Classification\\\\Minerals_Dataset\\\\Minerals_mat_files\\\\0113_A.mat': (320, 410, 256), 'D:\\\\HSI Project\\\\Updated_Work\\\\HSI_Classification\\\\Minerals_Dataset\\\\Minerals_mat_files\\\\0114_A.mat': (320, 410, 256), 'D:\\\\HSI Project\\\\Updated_Work\\\\HSI_Classification\\\\Minerals_Dataset\\\\Minerals_mat_files\\\\0115_A.mat': (320, 410, 256), 'D:\\\\HSI Project\\\\Updated_Work\\\\HSI_Classification\\\\Minerals_Dataset\\\\Minerals_mat_files\\\\0116_A.mat': (320, 410, 256), 'D:\\\\HSI Project\\\\Updated_Work\\\\HSI_Classification\\\\Minerals_Dataset\\\\Minerals_mat_files\\\\0117_A.mat': (320, 410, 256), 'D:\\\\HSI Project\\\\Updated_Work\\\\HSI_Classification\\\\Minerals_Dataset\\\\Minerals_mat_files\\\\0118_A.mat': (320, 410, 256), 'D:\\\\HSI Project\\\\Updated_Work\\\\HSI_Classification\\\\Minerals_Dataset\\\\Minerals_mat_files\\\\0119_A.mat': (320, 410, 256), 'D:\\\\HSI Project\\\\Updated_Work\\\\HSI_Classification\\\\Minerals_Dataset\\\\Minerals_mat_files\\\\0120_A.mat': (320, 410, 256), 'D:\\\\HSI Project\\\\Updated_Work\\\\HSI_Classification\\\\Minerals_Dataset\\\\Minerals_mat_files\\\\0121_A.mat': (320, 410, 256), 'D:\\\\HSI Project\\\\Updated_Work\\\\HSI_Classification\\\\Minerals_Dataset\\\\Minerals_mat_files\\\\0122_A.mat': (320, 410, 256), 'D:\\\\HSI Project\\\\Updated_Work\\\\HSI_Classification\\\\Minerals_Dataset\\\\Minerals_mat_files\\\\0123_A.mat': (320, 410, 256), 'D:\\\\HSI Project\\\\Updated_Work\\\\HSI_Classification\\\\Minerals_Dataset\\\\Minerals_mat_files\\\\0124_A.mat': (320, 410, 256), 'D:\\\\HSI Project\\\\Updated_Work\\\\HSI_Classification\\\\Minerals_Dataset\\\\Minerals_mat_files\\\\0125_A.mat': (320, 410, 256), 'D:\\\\HSI Project\\\\Updated_Work\\\\HSI_Classification\\\\Minerals_Dataset\\\\Minerals_mat_files\\\\0126_A.mat': (320, 410, 256), 'D:\\\\HSI Project\\\\Updated_Work\\\\HSI_Classification\\\\Minerals_Dataset\\\\Minerals_mat_files\\\\0127_A.mat': (320, 410, 256), 'D:\\\\HSI Project\\\\Updated_Work\\\\HSI_Classification\\\\Minerals_Dataset\\\\Minerals_mat_files\\\\0127_B.mat': (320, 410, 256), 'D:\\\\HSI Project\\\\Updated_Work\\\\HSI_Classification\\\\Minerals_Dataset\\\\Minerals_mat_files\\\\0128_A.mat': (320, 410, 256), 'D:\\\\HSI Project\\\\Updated_Work\\\\HSI_Classification\\\\Minerals_Dataset\\\\Minerals_mat_files\\\\0129_A.mat': (320, 410, 256), 'D:\\\\HSI Project\\\\Updated_Work\\\\HSI_Classification\\\\Minerals_Dataset\\\\Minerals_mat_files\\\\Bg_A.mat': (320, 460, 256)}\n"
     ]
    }
   ],
   "source": [
    "from glob import glob\n",
    "paths = glob(\"D:\\\\HSI Project\\\\Updated_Work\\\\HSI_Classification\\\\Minerals_Dataset\\\\Minerals_mat_files\\\\*.mat\")\n",
    "hsi_paths = []\n",
    "for path in paths:\n",
    "    name = path.split(\"\\\\\")[-1]\n",
    "    if \"gt\" not in name:\n",
    "        hsi_paths.append(path)\n",
    "hsi_dict = {}\n",
    "for path in hsi_paths:\n",
    "    hsi_dict[path] = np.transpose(loadmat(path)['HDR'][:],axes=(1,2,0)).shape\n",
    "print(hsi_dict)"
   ]
  },
  {
   "cell_type": "code",
   "execution_count": 52,
   "metadata": {},
   "outputs": [],
   "source": [
    "mmaps = {}\n",
    "for path,shape in hsi_dict.items():\n",
    "    mmaps[path] = np.memmap(path, dtype='float32', mode='r', shape=shape)"
   ]
  },
  {
   "cell_type": "code",
   "execution_count": 53,
   "metadata": {},
   "outputs": [
    {
     "data": {
      "text/plain": [
       "153"
      ]
     },
     "execution_count": 53,
     "metadata": {},
     "output_type": "execute_result"
    }
   ],
   "source": [
    "len(mmaps.keys())"
   ]
  },
  {
   "cell_type": "code",
   "execution_count": 50,
   "metadata": {},
   "outputs": [],
   "source": [
    "# mmaps[0]"
   ]
  },
  {
   "cell_type": "code",
   "execution_count": 57,
   "metadata": {},
   "outputs": [
    {
     "name": "stdout",
     "output_type": "stream",
     "text": [
      "CPU times: total: 15.6 ms\n",
      "Wall time: 65.3 ms\n"
     ]
    }
   ],
   "source": [
    "%%time\n",
    "id = np.arange(0,512)\n",
    "a = torch.zeros((512,256,11,11))\n",
    "# hsi = np.transpose(loadmat(hsi_path)['HDR'],axes=(1,2,0))\n",
    "for i in id:\n",
    "    patch = torch.tensor(np.transpose(patch_from_hsi(i,hsi_path,mmaps,11),axes=(2,0,1)))\n",
    "    a[i] = patch"
   ]
  },
  {
   "cell_type": "code",
   "execution_count": 45,
   "metadata": {},
   "outputs": [
    {
     "data": {
      "text/plain": [
       "(320, 410, 256)"
      ]
     },
     "execution_count": 45,
     "metadata": {},
     "output_type": "execute_result"
    }
   ],
   "source": [
    "hsi.shape"
   ]
  },
  {
   "cell_type": "code",
   "execution_count": 37,
   "metadata": {},
   "outputs": [
    {
     "data": {
      "text/plain": [
       "torch.Size([512, 256, 7, 7])"
      ]
     },
     "execution_count": 37,
     "metadata": {},
     "output_type": "execute_result"
    }
   ],
   "source": [
    "a.shape"
   ]
  },
  {
   "cell_type": "code",
   "execution_count": 38,
   "metadata": {},
   "outputs": [],
   "source": [
    "np.save(\"D:\\\\HSI Project\\\\Updated_Work\\\\HSI_Classification\\\\Vision_Transformer\\\\HSI_Transformer\\\\dummy2.npy\",arr=a.numpy())"
   ]
  },
  {
   "cell_type": "code",
   "execution_count": 35,
   "metadata": {},
   "outputs": [
    {
     "name": "stdout",
     "output_type": "stream",
     "text": [
      "CPU times: total: 78.1 ms\n",
      "Wall time: 105 ms\n"
     ]
    }
   ],
   "source": [
    "%%time\n",
    "import torch\n",
    "import torch.nn.functional as F\n",
    "patch_path = \"E:\\\\Patches_Data\\\\Patches\\\\0_A_0.npy\"\n",
    "id = np.arange(0,512)\n",
    "b = torch.zeros((512,256,7,7))\n",
    "for i in id:\n",
    "    # patch = np.transpose(patch_from_hsi(i,hsi_path,11),axes=(2,0,1))\n",
    "    p2 = np.load(patch_path)\n",
    "    p2 = np.transpose(F.pad(torch.tensor(np.transpose(p2,axes=(2,0,1))),(1,1,1,1)).numpy(),axes=(1,2,0))\n",
    "    p2 = torch.tensor(p2).permute(2,0,1)\n",
    "    b[i] = p2"
   ]
  },
  {
   "cell_type": "code",
   "execution_count": 36,
   "metadata": {},
   "outputs": [
    {
     "data": {
      "text/plain": [
       "torch.Size([512, 256, 7, 7])"
      ]
     },
     "execution_count": 36,
     "metadata": {},
     "output_type": "execute_result"
    }
   ],
   "source": [
    "b.shape"
   ]
  },
  {
   "cell_type": "code",
   "execution_count": 39,
   "metadata": {},
   "outputs": [],
   "source": [
    "np.save(\"D:\\\\HSI Project\\\\Updated_Work\\\\HSI_Classification\\\\Vision_Transformer\\\\HSI_Transformer\\\\dummy3.npy\",arr=b.numpy())"
   ]
  },
  {
   "cell_type": "code",
   "execution_count": 32,
   "metadata": {},
   "outputs": [
    {
     "data": {
      "text/plain": [
       "torch.float32"
      ]
     },
     "execution_count": 32,
     "metadata": {},
     "output_type": "execute_result"
    }
   ],
   "source": [
    "b.dtype"
   ]
  },
  {
   "cell_type": "code",
   "execution_count": 14,
   "metadata": {},
   "outputs": [
    {
     "data": {
      "text/plain": [
       "(256, 320, 410)"
      ]
     },
     "execution_count": 14,
     "metadata": {},
     "output_type": "execute_result"
    }
   ],
   "source": [
    "arr = np.array(loadmat(hsi_path)['HDR'])\n",
    "# arr.dtype # f4 means 4 bytes or 32 bits\n",
    "arr.shape"
   ]
  },
  {
   "cell_type": "code",
   "execution_count": 18,
   "metadata": {},
   "outputs": [
    {
     "data": {
      "text/plain": [
       "dtype('<f4')"
      ]
     },
     "execution_count": 18,
     "metadata": {},
     "output_type": "execute_result"
    }
   ],
   "source": [
    "arr[:,:11,:11].dtype"
   ]
  },
  {
   "cell_type": "code",
   "execution_count": 17,
   "metadata": {},
   "outputs": [],
   "source": [
    "np.save(file=\"D:\\\\HSI Project\\\\Updated_Work\\\\HSI_Classification\\\\Vision_Transformer\\\\HSI_Transformer\\\\dummy.npy\",arr = arr[:,:11,:11])"
   ]
  },
  {
   "cell_type": "code",
   "execution_count": null,
   "metadata": {},
   "outputs": [],
   "source": []
  },
  {
   "cell_type": "code",
   "execution_count": 7,
   "metadata": {},
   "outputs": [
    {
     "name": "stdout",
     "output_type": "stream",
     "text": [
      "True\n",
      "11.8\n"
     ]
    }
   ],
   "source": [
    "import torch\n",
    "print(torch.cuda.is_available())\n",
    "print(torch.version.cuda)"
   ]
  },
  {
   "cell_type": "code",
   "execution_count": 4,
   "metadata": {},
   "outputs": [
    {
     "name": "stdout",
     "output_type": "stream",
     "text": [
      "(320, 410, 256)\n"
     ]
    }
   ],
   "source": [
    "print(hsi.shape)"
   ]
  },
  {
   "cell_type": "code",
   "execution_count": 13,
   "metadata": {},
   "outputs": [],
   "source": [
    "def patch_from_hsi(id,hsi,window_size):\n",
    "    row,col,channels = hsi.shape\n",
    "    x_hsi,y_hsi = id//col,id%col\n",
    "    margin = int((window_size-1)/2)\n",
    "    \n",
    "    patch = np.zeros((window_size,window_size,channels))\n",
    "    \n",
    "    lower_bound = [max(0,x_hsi-margin),max(0,y_hsi-margin)]\n",
    "    upper_bound = [min(row-1,x_hsi+margin),min(col-1,y_hsi+margin)]\n",
    "    \n",
    "    diff_lower = [abs(x_hsi-lower_bound[0]),abs(y_hsi-lower_bound[1])]\n",
    "    diff_upper = [abs(upper_bound[0]-x_hsi),abs(upper_bound[1]-y_hsi)]\n",
    "    \n",
    "    patch_lower_bound = [margin-diff_lower[0],margin-diff_lower[1]]\n",
    "    patch_upper_bound = [margin+diff_upper[0],margin+diff_upper[1]]\n",
    "    \n",
    "    patch[patch_lower_bound[0]:patch_upper_bound[0]+1,patch_lower_bound[1]:patch_upper_bound[1]+1,:] = hsi[lower_bound[0]:upper_bound[0]+1,lower_bound[1]:upper_bound[1]+1,:]\n",
    "    \n",
    "    return patch"
   ]
  },
  {
   "cell_type": "code",
   "execution_count": 35,
   "metadata": {},
   "outputs": [
    {
     "name": "stdout",
     "output_type": "stream",
     "text": [
      "(5, 5, 256)\n"
     ]
    }
   ],
   "source": [
    "patch = patch_from_hsi(131199,hsi,5)\n",
    "print(patch.shape)"
   ]
  },
  {
   "cell_type": "code",
   "execution_count": 32,
   "metadata": {},
   "outputs": [
    {
     "data": {
      "text/plain": [
       "array([[0.09467328, 0.10506839, 0.11166861, 0.        , 0.        ],\n",
       "       [0.08470266, 0.0939758 , 0.09359382, 0.        , 0.        ],\n",
       "       [0.08646677, 0.0933903 , 0.09653773, 0.        , 0.        ],\n",
       "       [0.        , 0.        , 0.        , 0.        , 0.        ],\n",
       "       [0.        , 0.        , 0.        , 0.        , 0.        ]])"
      ]
     },
     "execution_count": 32,
     "metadata": {},
     "output_type": "execute_result"
    }
   ],
   "source": [
    "patch[:,:,0]"
   ]
  },
  {
   "cell_type": "code",
   "execution_count": 33,
   "metadata": {},
   "outputs": [
    {
     "data": {
      "text/plain": [
       "(319, 409)"
      ]
     },
     "execution_count": 33,
     "metadata": {},
     "output_type": "execute_result"
    }
   ],
   "source": [
    "131199//410,131199%410"
   ]
  },
  {
   "cell_type": "code",
   "execution_count": 34,
   "metadata": {},
   "outputs": [
    {
     "data": {
      "text/plain": [
       "array([[0.09467328, 0.10506839, 0.11166861],\n",
       "       [0.08470266, 0.0939758 , 0.09359382],\n",
       "       [0.08646677, 0.0933903 , 0.09653773]], dtype=float32)"
      ]
     },
     "execution_count": 34,
     "metadata": {},
     "output_type": "execute_result"
    }
   ],
   "source": [
    "hsi[317:320,407:410,0]"
   ]
  },
  {
   "cell_type": "code",
   "execution_count": 6,
   "metadata": {},
   "outputs": [
    {
     "name": "stdout",
     "output_type": "stream",
     "text": [
      "tensor([[  2, 100,   1,   3],\n",
      "        [  5, 150,   4,   2]])\n",
      "NaN found in batch 2, channel 100, at position (1, 3)\n",
      "NaN found in batch 5, channel 150, at position (4, 2)\n"
     ]
    }
   ],
   "source": [
    "import torch\n",
    "\n",
    "# Example input batch of size (batch_size, 256, 5, 5)\n",
    "# Let's simulate it with a random tensor with some NaN values\n",
    "batch_size = 10\n",
    "inputs = torch.randn(batch_size, 256, 5, 5)\n",
    "\n",
    "# Introduce some NaN values for testing\n",
    "inputs[2, 100, 1, 3] = float('nan')\n",
    "inputs[5, 150, 4, 2] = float('nan')\n",
    "\n",
    "# Check where the NaN values are\n",
    "nan_mask = torch.isnan(inputs)\n",
    "\n",
    "# Get the indices of NaN values\n",
    "nan_indices = torch.nonzero(nan_mask, as_tuple=False)\n",
    "print(nan_indices)\n",
    "# Loop through the results and print them\n",
    "for idx in nan_indices:\n",
    "    batch_idx, channel_idx, height_idx, width_idx = idx\n",
    "    print(f\"NaN found in batch {batch_idx}, channel {channel_idx}, at position ({height_idx}, {width_idx})\")\n"
   ]
  },
  {
   "cell_type": "code",
   "execution_count": 4,
   "metadata": {},
   "outputs": [],
   "source": [
    "import pandas as pd\n",
    "from tqdm import tqdm\n",
    "from scipy.io import loadmat\n",
    "import numpy as np\n",
    "import torch\n",
    "df = pd.read_csv(\"D:\\\\HSI Project\\\\Updated_Work\\\\HSI_Classification\\\\Minerals_Dataset\\\\Minerals_Mapped.csv\")"
   ]
  },
  {
   "cell_type": "code",
   "execution_count": 66,
   "metadata": {},
   "outputs": [
    {
     "data": {
      "text/html": [
       "<div>\n",
       "<style scoped>\n",
       "    .dataframe tbody tr th:only-of-type {\n",
       "        vertical-align: middle;\n",
       "    }\n",
       "\n",
       "    .dataframe tbody tr th {\n",
       "        vertical-align: top;\n",
       "    }\n",
       "\n",
       "    .dataframe thead th {\n",
       "        text-align: right;\n",
       "    }\n",
       "</style>\n",
       "<table border=\"1\" class=\"dataframe\">\n",
       "  <thead>\n",
       "    <tr style=\"text-align: right;\">\n",
       "      <th></th>\n",
       "      <th>ID</th>\n",
       "      <th>Experiment</th>\n",
       "      <th>Mineral</th>\n",
       "      <th>HSI_Path</th>\n",
       "      <th>MASK_Path</th>\n",
       "    </tr>\n",
       "  </thead>\n",
       "  <tbody>\n",
       "    <tr>\n",
       "      <th>0</th>\n",
       "      <td>20</td>\n",
       "      <td>A</td>\n",
       "      <td>Actinolite</td>\n",
       "      <td>D:\\HSI Project\\Updated_Work\\HSI_Classification...</td>\n",
       "      <td>D:\\HSI Project\\Updated_Work\\HSI_Classification...</td>\n",
       "    </tr>\n",
       "    <tr>\n",
       "      <th>1</th>\n",
       "      <td>21</td>\n",
       "      <td>A</td>\n",
       "      <td>Actinolite</td>\n",
       "      <td>D:\\HSI Project\\Updated_Work\\HSI_Classification...</td>\n",
       "      <td>D:\\HSI Project\\Updated_Work\\HSI_Classification...</td>\n",
       "    </tr>\n",
       "    <tr>\n",
       "      <th>2</th>\n",
       "      <td>64</td>\n",
       "      <td>A</td>\n",
       "      <td>Actinolite</td>\n",
       "      <td>D:\\HSI Project\\Updated_Work\\HSI_Classification...</td>\n",
       "      <td>D:\\HSI Project\\Updated_Work\\HSI_Classification...</td>\n",
       "    </tr>\n",
       "    <tr>\n",
       "      <th>3</th>\n",
       "      <td>107</td>\n",
       "      <td>A</td>\n",
       "      <td>Albite</td>\n",
       "      <td>D:\\HSI Project\\Updated_Work\\HSI_Classification...</td>\n",
       "      <td>D:\\HSI Project\\Updated_Work\\HSI_Classification...</td>\n",
       "    </tr>\n",
       "    <tr>\n",
       "      <th>4</th>\n",
       "      <td>25</td>\n",
       "      <td>A</td>\n",
       "      <td>Almandine</td>\n",
       "      <td>D:\\HSI Project\\Updated_Work\\HSI_Classification...</td>\n",
       "      <td>D:\\HSI Project\\Updated_Work\\HSI_Classification...</td>\n",
       "    </tr>\n",
       "  </tbody>\n",
       "</table>\n",
       "</div>"
      ],
      "text/plain": [
       "    ID Experiment     Mineral  \\\n",
       "0   20          A  Actinolite   \n",
       "1   21          A  Actinolite   \n",
       "2   64          A  Actinolite   \n",
       "3  107          A      Albite   \n",
       "4   25          A   Almandine   \n",
       "\n",
       "                                            HSI_Path  \\\n",
       "0  D:\\HSI Project\\Updated_Work\\HSI_Classification...   \n",
       "1  D:\\HSI Project\\Updated_Work\\HSI_Classification...   \n",
       "2  D:\\HSI Project\\Updated_Work\\HSI_Classification...   \n",
       "3  D:\\HSI Project\\Updated_Work\\HSI_Classification...   \n",
       "4  D:\\HSI Project\\Updated_Work\\HSI_Classification...   \n",
       "\n",
       "                                           MASK_Path  \n",
       "0  D:\\HSI Project\\Updated_Work\\HSI_Classification...  \n",
       "1  D:\\HSI Project\\Updated_Work\\HSI_Classification...  \n",
       "2  D:\\HSI Project\\Updated_Work\\HSI_Classification...  \n",
       "3  D:\\HSI Project\\Updated_Work\\HSI_Classification...  \n",
       "4  D:\\HSI Project\\Updated_Work\\HSI_Classification...  "
      ]
     },
     "execution_count": 66,
     "metadata": {},
     "output_type": "execute_result"
    }
   ],
   "source": [
    "df.head()"
   ]
  },
  {
   "cell_type": "code",
   "execution_count": 67,
   "metadata": {},
   "outputs": [
    {
     "data": {
      "text/plain": [
       "'D:\\\\HSI Project\\\\Updated_Work\\\\HSI_Classification\\\\Minerals_Dataset\\\\Minerals_mat_files\\\\0020_A_gt.mat'"
      ]
     },
     "execution_count": 67,
     "metadata": {},
     "output_type": "execute_result"
    }
   ],
   "source": [
    "df.iloc[0]['MASK_Path']"
   ]
  },
  {
   "cell_type": "code",
   "execution_count": 5,
   "metadata": {},
   "outputs": [
    {
     "name": "stderr",
     "output_type": "stream",
     "text": [
      "100%|██████████| 152/152 [00:10<00:00, 15.09it/s]\n"
     ]
    }
   ],
   "source": [
    "nan_img = []\n",
    "for _,row in tqdm(df.iterrows(),total=len(df)):\n",
    "    hsi_path = row['HSI_Path']\n",
    "    hsi = torch.tensor(np.transpose(loadmat(hsi_path)['HDR'][:],axes=(1,2,0)))\n",
    "    # Check where the NaN values are\n",
    "    nan_mask = torch.isnan(hsi)\n",
    "    # Get the indices of NaN values\n",
    "    nan_indices = torch.nonzero(nan_mask, as_tuple=False)\n",
    "    if len(nan_indices)>0:\n",
    "        # print(row['ID'],\" \",row['Experiment'])\n",
    "        # print(nan_indices,\"\\n\")\n",
    "        nan_img.append([row['ID'],row['Experiment'],nan_indices])"
   ]
  },
  {
   "cell_type": "code",
   "execution_count": 6,
   "metadata": {},
   "outputs": [
    {
     "data": {
      "text/plain": [
       "0"
      ]
     },
     "execution_count": 6,
     "metadata": {},
     "output_type": "execute_result"
    }
   ],
   "source": [
    "len(nan_img)"
   ]
  },
  {
   "cell_type": "code",
   "execution_count": 73,
   "metadata": {},
   "outputs": [],
   "source": [
    "for i,x in enumerate(nan_img):\n",
    "    print(i,\" \",x[:2])"
   ]
  },
  {
   "cell_type": "code",
   "execution_count": 40,
   "metadata": {},
   "outputs": [
    {
     "name": "stdout",
     "output_type": "stream",
     "text": [
      "tensor([0, 0, 0])\n",
      "tensor([0, 0, 1])\n",
      "tensor([0, 0, 2])\n",
      "tensor([0, 0, 3])\n",
      "tensor([0, 0, 4])\n",
      "tensor([0, 0, 5])\n",
      "tensor([0, 0, 6])\n",
      "tensor([0, 0, 7])\n",
      "tensor([0, 0, 8])\n",
      "tensor([0, 0, 9])\n",
      "tensor([ 0,  0, 10])\n",
      "tensor([ 0,  0, 11])\n",
      "tensor([ 0,  0, 12])\n",
      "tensor([ 0,  0, 13])\n",
      "tensor([ 0,  0, 14])\n",
      "tensor([ 0,  0, 15])\n",
      "tensor([ 0,  0, 16])\n",
      "tensor([ 0,  0, 17])\n",
      "tensor([ 0,  0, 18])\n",
      "tensor([ 0,  0, 19])\n",
      "tensor([ 0,  0, 20])\n",
      "tensor([ 0,  0, 21])\n",
      "tensor([ 0,  0, 22])\n",
      "tensor([ 0,  0, 23])\n",
      "tensor([ 0,  0, 24])\n",
      "tensor([ 0,  0, 25])\n",
      "tensor([ 0,  0, 26])\n",
      "tensor([ 0,  0, 27])\n",
      "tensor([ 0,  0, 28])\n",
      "tensor([ 0,  0, 29])\n",
      "tensor([ 0,  0, 30])\n",
      "tensor([ 0,  0, 31])\n",
      "tensor([ 0,  0, 32])\n",
      "tensor([ 0,  0, 33])\n",
      "tensor([ 0,  0, 34])\n",
      "tensor([ 0,  0, 35])\n",
      "tensor([ 0,  0, 36])\n",
      "tensor([ 0,  0, 37])\n",
      "tensor([ 0,  0, 38])\n",
      "tensor([ 0,  0, 39])\n",
      "tensor([ 0,  0, 40])\n",
      "tensor([ 0,  0, 41])\n",
      "tensor([ 0,  0, 42])\n",
      "tensor([ 0,  0, 43])\n",
      "tensor([ 0,  0, 44])\n",
      "tensor([ 0,  0, 45])\n",
      "tensor([ 0,  0, 46])\n",
      "tensor([ 0,  0, 47])\n",
      "tensor([ 0,  0, 48])\n",
      "tensor([ 0,  0, 49])\n",
      "tensor([ 0,  0, 50])\n",
      "tensor([ 0,  0, 51])\n",
      "tensor([ 0,  0, 52])\n",
      "tensor([ 0,  0, 53])\n",
      "tensor([ 0,  0, 54])\n",
      "tensor([ 0,  0, 55])\n",
      "tensor([ 0,  0, 56])\n",
      "tensor([ 0,  0, 57])\n",
      "tensor([ 0,  0, 58])\n",
      "tensor([ 0,  0, 59])\n",
      "tensor([ 0,  0, 60])\n",
      "tensor([ 0,  0, 61])\n",
      "tensor([ 0,  0, 62])\n",
      "tensor([ 0,  0, 63])\n",
      "tensor([ 0,  0, 64])\n",
      "tensor([ 0,  0, 65])\n",
      "tensor([ 0,  0, 66])\n",
      "tensor([ 0,  0, 67])\n",
      "tensor([ 0,  0, 68])\n",
      "tensor([ 0,  0, 69])\n",
      "tensor([ 0,  0, 70])\n",
      "tensor([ 0,  0, 71])\n",
      "tensor([ 0,  0, 72])\n",
      "tensor([ 0,  0, 73])\n",
      "tensor([ 0,  0, 74])\n",
      "tensor([ 0,  0, 75])\n",
      "tensor([ 0,  0, 76])\n",
      "tensor([ 0,  0, 77])\n",
      "tensor([ 0,  0, 78])\n",
      "tensor([ 0,  0, 79])\n",
      "tensor([ 0,  0, 80])\n",
      "tensor([ 0,  0, 81])\n",
      "tensor([ 0,  0, 82])\n",
      "tensor([ 0,  0, 83])\n",
      "tensor([ 0,  0, 84])\n",
      "tensor([ 0,  0, 85])\n",
      "tensor([ 0,  0, 86])\n",
      "tensor([ 0,  0, 87])\n",
      "tensor([ 0,  0, 88])\n",
      "tensor([ 0,  0, 89])\n",
      "tensor([ 0,  0, 90])\n",
      "tensor([ 0,  0, 91])\n",
      "tensor([ 0,  0, 92])\n",
      "tensor([ 0,  0, 93])\n",
      "tensor([ 0,  0, 94])\n",
      "tensor([ 0,  0, 95])\n",
      "tensor([ 0,  0, 96])\n",
      "tensor([ 0,  0, 97])\n",
      "tensor([ 0,  0, 98])\n",
      "tensor([ 0,  0, 99])\n",
      "tensor([  0,   0, 100])\n",
      "tensor([  0,   0, 101])\n",
      "tensor([  0,   0, 102])\n",
      "tensor([  0,   0, 103])\n",
      "tensor([  0,   0, 104])\n",
      "tensor([  0,   0, 105])\n",
      "tensor([  0,   0, 106])\n",
      "tensor([  0,   0, 107])\n",
      "tensor([  0,   0, 108])\n",
      "tensor([  0,   0, 109])\n",
      "tensor([  0,   0, 110])\n",
      "tensor([  0,   0, 111])\n",
      "tensor([  0,   0, 112])\n",
      "tensor([  0,   0, 113])\n",
      "tensor([  0,   0, 114])\n",
      "tensor([  0,   0, 115])\n",
      "tensor([  0,   0, 116])\n",
      "tensor([  0,   0, 117])\n",
      "tensor([  0,   0, 118])\n",
      "tensor([  0,   0, 119])\n",
      "tensor([  0,   0, 120])\n",
      "tensor([  0,   0, 121])\n",
      "tensor([  0,   0, 122])\n",
      "tensor([  0,   0, 123])\n",
      "tensor([  0,   0, 124])\n",
      "tensor([  0,   0, 125])\n",
      "tensor([  0,   0, 126])\n",
      "tensor([  0,   0, 127])\n",
      "tensor([  0,   0, 128])\n",
      "tensor([  0,   0, 129])\n",
      "tensor([  0,   0, 130])\n",
      "tensor([  0,   0, 131])\n",
      "tensor([  0,   0, 132])\n",
      "tensor([  0,   0, 133])\n",
      "tensor([  0,   0, 134])\n",
      "tensor([  0,   0, 135])\n",
      "tensor([  0,   0, 136])\n",
      "tensor([  0,   0, 137])\n",
      "tensor([  0,   0, 138])\n",
      "tensor([  0,   0, 139])\n",
      "tensor([  0,   0, 140])\n",
      "tensor([  0,   0, 141])\n",
      "tensor([  0,   0, 142])\n",
      "tensor([  0,   0, 143])\n",
      "tensor([  0,   0, 144])\n",
      "tensor([  0,   0, 145])\n",
      "tensor([  0,   0, 146])\n",
      "tensor([  0,   0, 147])\n",
      "tensor([  0,   0, 148])\n",
      "tensor([  0,   0, 149])\n",
      "tensor([  0,   0, 150])\n",
      "tensor([  0,   0, 151])\n",
      "tensor([  0,   0, 152])\n",
      "tensor([  0,   0, 153])\n",
      "tensor([  0,   0, 154])\n",
      "tensor([  0,   0, 155])\n",
      "tensor([  0,   0, 156])\n",
      "tensor([  0,   0, 157])\n",
      "tensor([  0,   0, 158])\n",
      "tensor([  0,   0, 159])\n",
      "tensor([  0,   0, 160])\n",
      "tensor([  0,   0, 161])\n",
      "tensor([  0,   0, 162])\n",
      "tensor([  0,   0, 163])\n",
      "tensor([  0,   0, 164])\n",
      "tensor([  0,   0, 165])\n",
      "tensor([  0,   0, 166])\n",
      "tensor([  0,   0, 167])\n",
      "tensor([  0,   0, 168])\n",
      "tensor([  0,   0, 169])\n",
      "tensor([  0,   0, 170])\n",
      "tensor([  0,   0, 171])\n",
      "tensor([  0,   0, 172])\n",
      "tensor([  0,   0, 173])\n",
      "tensor([  0,   0, 174])\n",
      "tensor([  0,   0, 175])\n",
      "tensor([  0,   0, 176])\n",
      "tensor([  0,   0, 177])\n",
      "tensor([  0,   0, 178])\n",
      "tensor([  0,   0, 179])\n",
      "tensor([  0,   0, 180])\n",
      "tensor([  0,   0, 181])\n",
      "tensor([  0,   0, 182])\n",
      "tensor([  0,   0, 183])\n",
      "tensor([  0,   0, 184])\n",
      "tensor([  0,   0, 185])\n",
      "tensor([  0,   0, 186])\n",
      "tensor([  0,   0, 187])\n",
      "tensor([  0,   0, 188])\n",
      "tensor([  0,   0, 189])\n",
      "tensor([  0,   0, 190])\n",
      "tensor([  0,   0, 191])\n",
      "tensor([  0,   0, 192])\n",
      "tensor([  0,   0, 193])\n",
      "tensor([  0,   0, 194])\n",
      "tensor([  0,   0, 195])\n",
      "tensor([  0,   0, 196])\n",
      "tensor([  0,   0, 197])\n",
      "tensor([  0,   0, 198])\n",
      "tensor([  0,   0, 199])\n",
      "tensor([  0,   0, 200])\n",
      "tensor([  0,   0, 201])\n",
      "tensor([  0,   0, 202])\n",
      "tensor([  0,   0, 203])\n",
      "tensor([  0,   0, 204])\n",
      "tensor([  0,   0, 205])\n",
      "tensor([  0,   0, 206])\n",
      "tensor([  0,   0, 207])\n",
      "tensor([  0,   0, 208])\n",
      "tensor([  0,   0, 209])\n",
      "tensor([  0,   0, 210])\n",
      "tensor([  0,   0, 211])\n",
      "tensor([  0,   0, 212])\n",
      "tensor([  0,   0, 213])\n",
      "tensor([  0,   0, 214])\n",
      "tensor([  0,   0, 215])\n",
      "tensor([  0,   0, 216])\n",
      "tensor([  0,   0, 217])\n",
      "tensor([  0,   0, 218])\n",
      "tensor([  0,   0, 219])\n",
      "tensor([  0,   0, 220])\n",
      "tensor([  0,   0, 221])\n",
      "tensor([  0,   0, 222])\n",
      "tensor([  0,   0, 223])\n",
      "tensor([  0,   0, 224])\n",
      "tensor([  0,   0, 225])\n",
      "tensor([  0,   0, 226])\n",
      "tensor([  0,   0, 227])\n",
      "tensor([  0,   0, 228])\n",
      "tensor([  0,   0, 229])\n",
      "tensor([  0,   0, 230])\n",
      "tensor([  0,   0, 231])\n",
      "tensor([  0,   0, 232])\n",
      "tensor([  0,   0, 233])\n",
      "tensor([  0,   0, 234])\n",
      "tensor([  0,   0, 235])\n",
      "tensor([  0,   0, 236])\n",
      "tensor([  0,   0, 237])\n",
      "tensor([  0,   0, 238])\n",
      "tensor([  0,   0, 239])\n",
      "tensor([  0,   0, 240])\n",
      "tensor([  0,   0, 241])\n",
      "tensor([  0,   0, 242])\n",
      "tensor([  0,   0, 243])\n",
      "tensor([  0,   0, 244])\n",
      "tensor([  0,   0, 245])\n",
      "tensor([  0,   0, 246])\n",
      "tensor([  0,   0, 247])\n",
      "tensor([  0,   0, 248])\n",
      "tensor([  0,   0, 249])\n",
      "tensor([  0,   0, 250])\n",
      "tensor([  0,   0, 251])\n",
      "tensor([  0,   0, 252])\n",
      "tensor([  0,   0, 253])\n",
      "tensor([  0,   0, 254])\n",
      "tensor([  0,   0, 255])\n",
      "tensor([0, 1, 0])\n",
      "tensor([0, 1, 1])\n",
      "tensor([0, 1, 2])\n",
      "tensor([0, 1, 3])\n",
      "tensor([0, 1, 4])\n",
      "tensor([0, 1, 5])\n",
      "tensor([0, 1, 6])\n",
      "tensor([0, 1, 7])\n",
      "tensor([0, 1, 8])\n",
      "tensor([0, 1, 9])\n",
      "tensor([ 0,  1, 10])\n",
      "tensor([ 0,  1, 11])\n",
      "tensor([ 0,  1, 12])\n",
      "tensor([ 0,  1, 13])\n",
      "tensor([ 0,  1, 14])\n",
      "tensor([ 0,  1, 15])\n",
      "tensor([ 0,  1, 16])\n",
      "tensor([ 0,  1, 17])\n",
      "tensor([ 0,  1, 18])\n",
      "tensor([ 0,  1, 19])\n",
      "tensor([ 0,  1, 20])\n",
      "tensor([ 0,  1, 21])\n",
      "tensor([ 0,  1, 22])\n",
      "tensor([ 0,  1, 23])\n",
      "tensor([ 0,  1, 24])\n",
      "tensor([ 0,  1, 25])\n",
      "tensor([ 0,  1, 26])\n",
      "tensor([ 0,  1, 27])\n",
      "tensor([ 0,  1, 28])\n",
      "tensor([ 0,  1, 29])\n",
      "tensor([ 0,  1, 30])\n",
      "tensor([ 0,  1, 31])\n",
      "tensor([ 0,  1, 32])\n",
      "tensor([ 0,  1, 33])\n",
      "tensor([ 0,  1, 34])\n",
      "tensor([ 0,  1, 35])\n",
      "tensor([ 0,  1, 36])\n",
      "tensor([ 0,  1, 37])\n",
      "tensor([ 0,  1, 38])\n",
      "tensor([ 0,  1, 39])\n",
      "tensor([ 0,  1, 40])\n",
      "tensor([ 0,  1, 41])\n",
      "tensor([ 0,  1, 42])\n",
      "tensor([ 0,  1, 43])\n",
      "tensor([ 0,  1, 44])\n",
      "tensor([ 0,  1, 45])\n",
      "tensor([ 0,  1, 46])\n",
      "tensor([ 0,  1, 47])\n",
      "tensor([ 0,  1, 48])\n",
      "tensor([ 0,  1, 49])\n",
      "tensor([ 0,  1, 50])\n",
      "tensor([ 0,  1, 51])\n",
      "tensor([ 0,  1, 52])\n",
      "tensor([ 0,  1, 53])\n",
      "tensor([ 0,  1, 54])\n",
      "tensor([ 0,  1, 55])\n",
      "tensor([ 0,  1, 56])\n",
      "tensor([ 0,  1, 57])\n",
      "tensor([ 0,  1, 58])\n",
      "tensor([ 0,  1, 59])\n",
      "tensor([ 0,  1, 60])\n",
      "tensor([ 0,  1, 61])\n",
      "tensor([ 0,  1, 62])\n",
      "tensor([ 0,  1, 63])\n",
      "tensor([ 0,  1, 64])\n",
      "tensor([ 0,  1, 65])\n",
      "tensor([ 0,  1, 66])\n",
      "tensor([ 0,  1, 67])\n",
      "tensor([ 0,  1, 68])\n",
      "tensor([ 0,  1, 69])\n",
      "tensor([ 0,  1, 70])\n",
      "tensor([ 0,  1, 71])\n",
      "tensor([ 0,  1, 72])\n",
      "tensor([ 0,  1, 73])\n",
      "tensor([ 0,  1, 74])\n",
      "tensor([ 0,  1, 75])\n",
      "tensor([ 0,  1, 76])\n",
      "tensor([ 0,  1, 77])\n",
      "tensor([ 0,  1, 78])\n",
      "tensor([ 0,  1, 79])\n",
      "tensor([ 0,  1, 80])\n",
      "tensor([ 0,  1, 81])\n",
      "tensor([ 0,  1, 82])\n",
      "tensor([ 0,  1, 83])\n",
      "tensor([ 0,  1, 84])\n",
      "tensor([ 0,  1, 85])\n",
      "tensor([ 0,  1, 86])\n",
      "tensor([ 0,  1, 87])\n",
      "tensor([ 0,  1, 88])\n",
      "tensor([ 0,  1, 89])\n",
      "tensor([ 0,  1, 90])\n",
      "tensor([ 0,  1, 91])\n",
      "tensor([ 0,  1, 92])\n",
      "tensor([ 0,  1, 93])\n",
      "tensor([ 0,  1, 94])\n",
      "tensor([ 0,  1, 95])\n",
      "tensor([ 0,  1, 96])\n",
      "tensor([ 0,  1, 97])\n",
      "tensor([ 0,  1, 98])\n",
      "tensor([ 0,  1, 99])\n",
      "tensor([  0,   1, 100])\n",
      "tensor([  0,   1, 101])\n",
      "tensor([  0,   1, 102])\n",
      "tensor([  0,   1, 103])\n",
      "tensor([  0,   1, 104])\n",
      "tensor([  0,   1, 105])\n",
      "tensor([  0,   1, 106])\n",
      "tensor([  0,   1, 107])\n",
      "tensor([  0,   1, 108])\n",
      "tensor([  0,   1, 109])\n",
      "tensor([  0,   1, 110])\n",
      "tensor([  0,   1, 111])\n",
      "tensor([  0,   1, 112])\n",
      "tensor([  0,   1, 113])\n",
      "tensor([  0,   1, 114])\n",
      "tensor([  0,   1, 115])\n",
      "tensor([  0,   1, 116])\n",
      "tensor([  0,   1, 117])\n",
      "tensor([  0,   1, 118])\n",
      "tensor([  0,   1, 119])\n",
      "tensor([  0,   1, 120])\n",
      "tensor([  0,   1, 121])\n",
      "tensor([  0,   1, 122])\n",
      "tensor([  0,   1, 123])\n",
      "tensor([  0,   1, 124])\n",
      "tensor([  0,   1, 125])\n",
      "tensor([  0,   1, 126])\n",
      "tensor([  0,   1, 127])\n",
      "tensor([  0,   1, 128])\n",
      "tensor([  0,   1, 129])\n",
      "tensor([  0,   1, 130])\n",
      "tensor([  0,   1, 131])\n",
      "tensor([  0,   1, 132])\n",
      "tensor([  0,   1, 133])\n",
      "tensor([  0,   1, 134])\n",
      "tensor([  0,   1, 135])\n",
      "tensor([  0,   1, 136])\n",
      "tensor([  0,   1, 137])\n",
      "tensor([  0,   1, 138])\n",
      "tensor([  0,   1, 139])\n",
      "tensor([  0,   1, 140])\n",
      "tensor([  0,   1, 141])\n",
      "tensor([  0,   1, 142])\n",
      "tensor([  0,   1, 143])\n",
      "tensor([  0,   1, 144])\n",
      "tensor([  0,   1, 145])\n",
      "tensor([  0,   1, 146])\n",
      "tensor([  0,   1, 147])\n",
      "tensor([  0,   1, 148])\n",
      "tensor([  0,   1, 149])\n",
      "tensor([  0,   1, 150])\n",
      "tensor([  0,   1, 151])\n",
      "tensor([  0,   1, 152])\n",
      "tensor([  0,   1, 153])\n",
      "tensor([  0,   1, 154])\n",
      "tensor([  0,   1, 155])\n",
      "tensor([  0,   1, 156])\n",
      "tensor([  0,   1, 157])\n",
      "tensor([  0,   1, 158])\n",
      "tensor([  0,   1, 159])\n",
      "tensor([  0,   1, 160])\n",
      "tensor([  0,   1, 161])\n",
      "tensor([  0,   1, 162])\n",
      "tensor([  0,   1, 163])\n",
      "tensor([  0,   1, 164])\n",
      "tensor([  0,   1, 165])\n",
      "tensor([  0,   1, 166])\n",
      "tensor([  0,   1, 167])\n",
      "tensor([  0,   1, 168])\n",
      "tensor([  0,   1, 169])\n",
      "tensor([  0,   1, 170])\n",
      "tensor([  0,   1, 171])\n",
      "tensor([  0,   1, 172])\n",
      "tensor([  0,   1, 173])\n",
      "tensor([  0,   1, 174])\n",
      "tensor([  0,   1, 175])\n",
      "tensor([  0,   1, 176])\n",
      "tensor([  0,   1, 177])\n",
      "tensor([  0,   1, 178])\n",
      "tensor([  0,   1, 179])\n",
      "tensor([  0,   1, 180])\n",
      "tensor([  0,   1, 181])\n",
      "tensor([  0,   1, 182])\n",
      "tensor([  0,   1, 183])\n",
      "tensor([  0,   1, 184])\n",
      "tensor([  0,   1, 185])\n",
      "tensor([  0,   1, 186])\n",
      "tensor([  0,   1, 187])\n",
      "tensor([  0,   1, 188])\n",
      "tensor([  0,   1, 189])\n",
      "tensor([  0,   1, 190])\n",
      "tensor([  0,   1, 191])\n",
      "tensor([  0,   1, 192])\n",
      "tensor([  0,   1, 193])\n",
      "tensor([  0,   1, 194])\n",
      "tensor([  0,   1, 195])\n",
      "tensor([  0,   1, 196])\n",
      "tensor([  0,   1, 197])\n",
      "tensor([  0,   1, 198])\n",
      "tensor([  0,   1, 199])\n",
      "tensor([  0,   1, 200])\n",
      "tensor([  0,   1, 201])\n",
      "tensor([  0,   1, 202])\n",
      "tensor([  0,   1, 203])\n",
      "tensor([  0,   1, 204])\n",
      "tensor([  0,   1, 205])\n",
      "tensor([  0,   1, 206])\n",
      "tensor([  0,   1, 207])\n",
      "tensor([  0,   1, 208])\n",
      "tensor([  0,   1, 209])\n",
      "tensor([  0,   1, 210])\n",
      "tensor([  0,   1, 211])\n",
      "tensor([  0,   1, 212])\n",
      "tensor([  0,   1, 213])\n",
      "tensor([  0,   1, 214])\n",
      "tensor([  0,   1, 215])\n",
      "tensor([  0,   1, 216])\n",
      "tensor([  0,   1, 217])\n",
      "tensor([  0,   1, 218])\n",
      "tensor([  0,   1, 219])\n",
      "tensor([  0,   1, 220])\n",
      "tensor([  0,   1, 221])\n",
      "tensor([  0,   1, 222])\n",
      "tensor([  0,   1, 223])\n",
      "tensor([  0,   1, 224])\n",
      "tensor([  0,   1, 225])\n",
      "tensor([  0,   1, 226])\n",
      "tensor([  0,   1, 227])\n",
      "tensor([  0,   1, 228])\n",
      "tensor([  0,   1, 229])\n",
      "tensor([  0,   1, 230])\n",
      "tensor([  0,   1, 231])\n",
      "tensor([  0,   1, 232])\n",
      "tensor([  0,   1, 233])\n",
      "tensor([  0,   1, 234])\n",
      "tensor([  0,   1, 235])\n",
      "tensor([  0,   1, 236])\n",
      "tensor([  0,   1, 237])\n",
      "tensor([  0,   1, 238])\n",
      "tensor([  0,   1, 239])\n",
      "tensor([  0,   1, 240])\n",
      "tensor([  0,   1, 241])\n",
      "tensor([  0,   1, 242])\n",
      "tensor([  0,   1, 243])\n",
      "tensor([  0,   1, 244])\n",
      "tensor([  0,   1, 245])\n",
      "tensor([  0,   1, 246])\n",
      "tensor([  0,   1, 247])\n",
      "tensor([  0,   1, 248])\n",
      "tensor([  0,   1, 249])\n",
      "tensor([  0,   1, 250])\n",
      "tensor([  0,   1, 251])\n",
      "tensor([  0,   1, 252])\n",
      "tensor([  0,   1, 253])\n",
      "tensor([  0,   1, 254])\n",
      "tensor([  0,   1, 255])\n"
     ]
    }
   ],
   "source": [
    "for i in nan_img[14][2]:\n",
    "    print(i)"
   ]
  },
  {
   "cell_type": "code",
   "execution_count": 46,
   "metadata": {},
   "outputs": [],
   "source": [
    "def spatial_avg(data,coordinates,kernel_size=3):\n",
    "    (x,y,c) = coordinates\n",
    "    # data = patch[:,:,c].copy()\n",
    "    while (np.isnan(data[x,y]) and kernel_size<=5):\n",
    "        max_x = data.shape[0]-1\n",
    "        max_y = data.shape[1]-1\n",
    "        start_x = max(0,x-kernel_size//2)\n",
    "        start_y = max(0,y-kernel_size//2)\n",
    "        end_x = min(max_x,x+kernel_size//2)+1\n",
    "        end_y = min(max_y,y+kernel_size//2)+1\n",
    "        neighbours = []\n",
    "        for i in range(start_x,end_x):\n",
    "            for j in range(start_y,end_y):\n",
    "                neighbours.append(data[i,j])\n",
    "        # Check if all elements are nan\n",
    "        all_nan = all(np.isnan(x) for x in neighbours)\n",
    "        if all_nan:\n",
    "            kernel_size+=2\n",
    "            continue\n",
    "        data[x,y] = np.nanmean(neighbours)\n",
    "    return data\n",
    "\n",
    "def fill_nan_hdr(hsi_img):\n",
    "    # hsi_img: shape (h,w,c)\n",
    "    hsi = hsi_img.copy()\n",
    "    ind = np.transpose(np.where(np.isnan(hsi)))\n",
    "    ind = np.array(sorted(ind,key=lambda x: (x[2],x[0],x[1])))\n",
    "    for (x,y,c) in ind:\n",
    "        if (c==0):\n",
    "            if not np.isnan(hsi[x,y,c+1]):\n",
    "                hsi[x,y,c] = hsi[x,y,c+1]\n",
    "            else:\n",
    "                hsi[:,:,c] = spatial_avg(hsi[:,:,c],(x,y,c))\n",
    "        elif (c==255):\n",
    "            if not np.isnan(hsi[x,y,c-1]):\n",
    "                hsi[x,y,c] = hsi[x,y,c-1]\n",
    "            else:\n",
    "                hsi[:,:,c] = spatial_avg(hsi[:,:,c],(x,y,c))\n",
    "        else:\n",
    "            if (not np.isnan(hsi[x,y,c+1])) and (not np.isnan(hsi[x,y,c-1])):\n",
    "                hsi[x,y,c] = np.mean([hsi[x,y,c+1],hsi[x,y,c-1]])\n",
    "            elif not np.isnan(hsi[x,y,c-1]):\n",
    "                hsi[x,y,c] = hsi[x,y,c-1]\n",
    "            elif not np.isnan(hsi[x,y,c+1]):\n",
    "                hsi[x,y,c] = hsi[x,y,c+1]\n",
    "            else:\n",
    "                hsi[:,:,c] = spatial_avg(hsi[:,:,c],(x,y,c))\n",
    "    return hsi"
   ]
  },
  {
   "cell_type": "code",
   "execution_count": 41,
   "metadata": {},
   "outputs": [],
   "source": [
    "from glob import glob\n",
    "import h5py "
   ]
  },
  {
   "cell_type": "code",
   "execution_count": 42,
   "metadata": {},
   "outputs": [
    {
     "data": {
      "text/plain": [
       "'D:\\\\HSI Project\\\\Updated_Work\\\\HSI_Classification\\\\Minerals_Dataset\\\\HDR_Data\\\\Extracted_Folder\\\\0000\\\\A.hdr.h5'"
      ]
     },
     "execution_count": 42,
     "metadata": {},
     "output_type": "execute_result"
    }
   ],
   "source": [
    "hdr_files = list(glob(\"D:\\\\HSI Project\\\\Updated_Work\\\\HSI_Classification\\\\Minerals_Dataset\\\\HDR_Data\\\\Extracted_Folder\\\\*\\\\*.hdr.h5\"))\n",
    "hdr_files[0]"
   ]
  },
  {
   "cell_type": "code",
   "execution_count": 62,
   "metadata": {},
   "outputs": [],
   "source": [
    "hdr_path = \"D:\\\\HSI Project\\\\Updated_Work\\\\HSI_Classification\\\\Minerals_Dataset\\\\HDR_Data\\\\Extracted_Folder\\\\0089\\\\A.hdr.h5\""
   ]
  },
  {
   "cell_type": "code",
   "execution_count": 63,
   "metadata": {},
   "outputs": [],
   "source": [
    "hsi = h5py.File(hdr_path,'r')['hdr'][:] # (256,320,410)\n",
    "        \n",
    "## Handling Nan Values here \n",
    "hsi = np.transpose(hsi,axes=(1,2,0))\n",
    "hsi = fill_nan_hdr(hsi)\n",
    "hsi = np.transpose(hsi,axes=(2,0,1))  # (256,320,410)"
   ]
  },
  {
   "cell_type": "code",
   "execution_count": 64,
   "metadata": {},
   "outputs": [],
   "source": [
    "nan_mask = torch.isnan(torch.tensor(hsi))\n",
    "# Get the indices of NaN values\n",
    "nan_indices = torch.nonzero(nan_mask, as_tuple=False)"
   ]
  },
  {
   "cell_type": "code",
   "execution_count": 65,
   "metadata": {},
   "outputs": [
    {
     "data": {
      "text/plain": [
       "tensor([[  0,   0,   0],\n",
       "        [  1,   0,   0],\n",
       "        [  2,   0,   0],\n",
       "        [  3,   0,   0],\n",
       "        [  4,   0,   0],\n",
       "        [  5,   0,   0],\n",
       "        [  6,   0,   0],\n",
       "        [  7,   0,   0],\n",
       "        [  8,   0,   0],\n",
       "        [  9,   0,   0],\n",
       "        [ 10,   0,   0],\n",
       "        [ 11,   0,   0],\n",
       "        [ 12,   0,   0],\n",
       "        [ 13,   0,   0],\n",
       "        [ 14,   0,   0],\n",
       "        [ 15,   0,   0],\n",
       "        [ 16,   0,   0],\n",
       "        [ 17,   0,   0],\n",
       "        [ 18,   0,   0],\n",
       "        [ 19,   0,   0],\n",
       "        [ 20,   0,   0],\n",
       "        [ 21,   0,   0],\n",
       "        [ 22,   0,   0],\n",
       "        [ 23,   0,   0],\n",
       "        [ 24,   0,   0],\n",
       "        [ 25,   0,   0],\n",
       "        [ 26,   0,   0],\n",
       "        [ 27,   0,   0],\n",
       "        [ 28,   0,   0],\n",
       "        [ 29,   0,   0],\n",
       "        [ 30,   0,   0],\n",
       "        [ 31,   0,   0],\n",
       "        [ 32,   0,   0],\n",
       "        [ 33,   0,   0],\n",
       "        [ 34,   0,   0],\n",
       "        [ 35,   0,   0],\n",
       "        [ 36,   0,   0],\n",
       "        [ 37,   0,   0],\n",
       "        [ 38,   0,   0],\n",
       "        [ 39,   0,   0],\n",
       "        [ 40,   0,   0],\n",
       "        [ 41,   0,   0],\n",
       "        [ 42,   0,   0],\n",
       "        [ 43,   0,   0],\n",
       "        [ 44,   0,   0],\n",
       "        [ 45,   0,   0],\n",
       "        [ 46,   0,   0],\n",
       "        [ 47,   0,   0],\n",
       "        [ 48,   0,   0],\n",
       "        [ 49,   0,   0],\n",
       "        [ 50,   0,   0],\n",
       "        [ 51,   0,   0],\n",
       "        [ 52,   0,   0],\n",
       "        [ 53,   0,   0],\n",
       "        [ 54,   0,   0],\n",
       "        [ 55,   0,   0],\n",
       "        [ 56,   0,   0],\n",
       "        [ 57,   0,   0],\n",
       "        [ 58,   0,   0],\n",
       "        [ 59,   0,   0],\n",
       "        [ 60,   0,   0],\n",
       "        [ 61,   0,   0],\n",
       "        [ 62,   0,   0],\n",
       "        [ 63,   0,   0],\n",
       "        [ 64,   0,   0],\n",
       "        [ 65,   0,   0],\n",
       "        [ 66,   0,   0],\n",
       "        [ 67,   0,   0],\n",
       "        [ 68,   0,   0],\n",
       "        [ 69,   0,   0],\n",
       "        [ 70,   0,   0],\n",
       "        [ 71,   0,   0],\n",
       "        [ 72,   0,   0],\n",
       "        [ 73,   0,   0],\n",
       "        [ 74,   0,   0],\n",
       "        [ 75,   0,   0],\n",
       "        [ 76,   0,   0],\n",
       "        [ 77,   0,   0],\n",
       "        [ 78,   0,   0],\n",
       "        [ 79,   0,   0],\n",
       "        [ 80,   0,   0],\n",
       "        [ 81,   0,   0],\n",
       "        [ 82,   0,   0],\n",
       "        [ 83,   0,   0],\n",
       "        [ 84,   0,   0],\n",
       "        [ 85,   0,   0],\n",
       "        [ 86,   0,   0],\n",
       "        [ 87,   0,   0],\n",
       "        [ 88,   0,   0],\n",
       "        [ 89,   0,   0],\n",
       "        [ 90,   0,   0],\n",
       "        [ 91,   0,   0],\n",
       "        [ 92,   0,   0],\n",
       "        [ 93,   0,   0],\n",
       "        [ 94,   0,   0],\n",
       "        [ 95,   0,   0],\n",
       "        [ 96,   0,   0],\n",
       "        [ 97,   0,   0],\n",
       "        [ 98,   0,   0],\n",
       "        [ 99,   0,   0],\n",
       "        [100,   0,   0],\n",
       "        [101,   0,   0],\n",
       "        [102,   0,   0],\n",
       "        [103,   0,   0],\n",
       "        [104,   0,   0],\n",
       "        [105,   0,   0],\n",
       "        [106,   0,   0],\n",
       "        [107,   0,   0],\n",
       "        [108,   0,   0],\n",
       "        [109,   0,   0],\n",
       "        [110,   0,   0],\n",
       "        [111,   0,   0],\n",
       "        [112,   0,   0],\n",
       "        [113,   0,   0],\n",
       "        [114,   0,   0],\n",
       "        [115,   0,   0],\n",
       "        [116,   0,   0],\n",
       "        [117,   0,   0],\n",
       "        [118,   0,   0],\n",
       "        [119,   0,   0],\n",
       "        [120,   0,   0],\n",
       "        [121,   0,   0],\n",
       "        [122,   0,   0],\n",
       "        [123,   0,   0],\n",
       "        [124,   0,   0],\n",
       "        [125,   0,   0],\n",
       "        [126,   0,   0],\n",
       "        [127,   0,   0],\n",
       "        [128,   0,   0],\n",
       "        [129,   0,   0],\n",
       "        [130,   0,   0],\n",
       "        [131,   0,   0],\n",
       "        [132,   0,   0],\n",
       "        [133,   0,   0],\n",
       "        [134,   0,   0],\n",
       "        [135,   0,   0],\n",
       "        [136,   0,   0],\n",
       "        [137,   0,   0],\n",
       "        [138,   0,   0],\n",
       "        [139,   0,   0],\n",
       "        [140,   0,   0],\n",
       "        [141,   0,   0],\n",
       "        [142,   0,   0],\n",
       "        [143,   0,   0],\n",
       "        [144,   0,   0],\n",
       "        [145,   0,   0],\n",
       "        [146,   0,   0],\n",
       "        [147,   0,   0],\n",
       "        [148,   0,   0],\n",
       "        [149,   0,   0],\n",
       "        [150,   0,   0],\n",
       "        [151,   0,   0],\n",
       "        [152,   0,   0],\n",
       "        [153,   0,   0],\n",
       "        [154,   0,   0],\n",
       "        [155,   0,   0],\n",
       "        [156,   0,   0],\n",
       "        [157,   0,   0],\n",
       "        [158,   0,   0],\n",
       "        [159,   0,   0],\n",
       "        [160,   0,   0],\n",
       "        [161,   0,   0],\n",
       "        [162,   0,   0],\n",
       "        [163,   0,   0],\n",
       "        [164,   0,   0],\n",
       "        [165,   0,   0],\n",
       "        [166,   0,   0],\n",
       "        [167,   0,   0],\n",
       "        [168,   0,   0],\n",
       "        [169,   0,   0],\n",
       "        [170,   0,   0],\n",
       "        [171,   0,   0],\n",
       "        [172,   0,   0],\n",
       "        [173,   0,   0],\n",
       "        [174,   0,   0],\n",
       "        [175,   0,   0],\n",
       "        [176,   0,   0],\n",
       "        [177,   0,   0],\n",
       "        [178,   0,   0],\n",
       "        [179,   0,   0],\n",
       "        [180,   0,   0],\n",
       "        [181,   0,   0],\n",
       "        [182,   0,   0],\n",
       "        [183,   0,   0],\n",
       "        [184,   0,   0],\n",
       "        [185,   0,   0],\n",
       "        [186,   0,   0],\n",
       "        [187,   0,   0],\n",
       "        [188,   0,   0],\n",
       "        [189,   0,   0],\n",
       "        [190,   0,   0],\n",
       "        [191,   0,   0],\n",
       "        [192,   0,   0],\n",
       "        [193,   0,   0],\n",
       "        [194,   0,   0],\n",
       "        [195,   0,   0],\n",
       "        [196,   0,   0],\n",
       "        [197,   0,   0],\n",
       "        [198,   0,   0],\n",
       "        [199,   0,   0],\n",
       "        [200,   0,   0],\n",
       "        [201,   0,   0],\n",
       "        [202,   0,   0],\n",
       "        [203,   0,   0],\n",
       "        [204,   0,   0],\n",
       "        [205,   0,   0],\n",
       "        [206,   0,   0],\n",
       "        [207,   0,   0],\n",
       "        [208,   0,   0],\n",
       "        [209,   0,   0],\n",
       "        [210,   0,   0],\n",
       "        [211,   0,   0],\n",
       "        [212,   0,   0],\n",
       "        [213,   0,   0],\n",
       "        [214,   0,   0],\n",
       "        [215,   0,   0],\n",
       "        [216,   0,   0],\n",
       "        [217,   0,   0],\n",
       "        [218,   0,   0],\n",
       "        [219,   0,   0],\n",
       "        [220,   0,   0],\n",
       "        [221,   0,   0],\n",
       "        [222,   0,   0],\n",
       "        [223,   0,   0],\n",
       "        [224,   0,   0],\n",
       "        [225,   0,   0],\n",
       "        [226,   0,   0],\n",
       "        [227,   0,   0],\n",
       "        [228,   0,   0],\n",
       "        [229,   0,   0],\n",
       "        [230,   0,   0],\n",
       "        [231,   0,   0],\n",
       "        [232,   0,   0],\n",
       "        [233,   0,   0],\n",
       "        [234,   0,   0],\n",
       "        [235,   0,   0],\n",
       "        [236,   0,   0],\n",
       "        [237,   0,   0],\n",
       "        [238,   0,   0],\n",
       "        [239,   0,   0],\n",
       "        [240,   0,   0],\n",
       "        [241,   0,   0],\n",
       "        [242,   0,   0],\n",
       "        [243,   0,   0],\n",
       "        [244,   0,   0],\n",
       "        [245,   0,   0],\n",
       "        [246,   0,   0],\n",
       "        [247,   0,   0],\n",
       "        [248,   0,   0],\n",
       "        [249,   0,   0],\n",
       "        [250,   0,   0],\n",
       "        [251,   0,   0],\n",
       "        [252,   0,   0],\n",
       "        [253,   0,   0],\n",
       "        [254,   0,   0],\n",
       "        [255,   0,   0]])"
      ]
     },
     "execution_count": 65,
     "metadata": {},
     "output_type": "execute_result"
    }
   ],
   "source": [
    "nan_indices"
   ]
  },
  {
   "cell_type": "code",
   "execution_count": null,
   "metadata": {},
   "outputs": [],
   "source": []
  }
 ],
 "metadata": {
  "kernelspec": {
   "display_name": "torch",
   "language": "python",
   "name": "python3"
  },
  "language_info": {
   "codemirror_mode": {
    "name": "ipython",
    "version": 3
   },
   "file_extension": ".py",
   "mimetype": "text/x-python",
   "name": "python",
   "nbconvert_exporter": "python",
   "pygments_lexer": "ipython3",
   "version": "3.11.5"
  }
 },
 "nbformat": 4,
 "nbformat_minor": 2
}
