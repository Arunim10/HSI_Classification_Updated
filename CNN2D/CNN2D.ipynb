{
 "cells": [
  {
   "cell_type": "code",
   "execution_count": null,
   "metadata": {},
   "outputs": [],
   "source": [
    "import torch\n",
    "import torch.nn as nn\n",
    "class CNN2D(nn.Module):\n",
    "    def __init__(self,patch_size,input_channels,C1,C2,C3,num_classes):\n",
    "        super(CNN2D,self).__init__()\n",
    "        self.model = nn.Sequential(\n",
    "            nn.Conv2d(input_channels,C1,kernel_size=3),\n",
    "            nn.BatchNorm2d(C1),\n",
    "            nn.ReLU(),\n",
    "            nn.Conv2d(C1,C2,kernel_size=3),\n",
    "            nn.BatchNorm2d(C2),\n",
    "            nn.ReLU(),\n",
    "            nn.BatchNorm2d(C2),\n",
    "            nn.Conv2d(C2,C3,kernel_size=1),\n",
    "            nn.BatchNorm2d(C3),\n",
    "            nn.ReLU(),\n",
    "        )\n",
    "        temp = self.model(torch.rand(1,input_channels,patch_size,patch_size))\n",
    "        self.dim = temp.view(temp.size(0),-1).shape[1]\n",
    "        self.linear = nn.Sequential(\n",
    "            nn.Linear(self.dim,512),\n",
    "            nn.ReLU(),\n",
    "            nn.Linear(512,256),\n",
    "            nn.ReLU(),\n",
    "            nn.Linear(256,num_classes)\n",
    "        )\n",
    "    \n",
    "    def forward(self,x):\n",
    "        out = self.model(x)\n",
    "        out = out.view(out.size(0),-1)\n",
    "        out = nn.Softmax()(self.linear(out))\n",
    "        return out"
   ]
  }
 ],
 "metadata": {
  "kernelspec": {
   "display_name": "env_texmin",
   "language": "python",
   "name": "python3"
  },
  "language_info": {
   "name": "python",
   "version": "3.10.13"
  }
 },
 "nbformat": 4,
 "nbformat_minor": 2
}
